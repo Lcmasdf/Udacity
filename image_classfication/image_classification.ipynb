{
 "cells": [
  {
   "cell_type": "markdown",
   "metadata": {
    "collapsed": true
   },
   "source": [
    "# Image Classification\n",
    "In this project, you'll classify images from the [CIFAR-10 dataset](https://www.cs.toronto.edu/~kriz/cifar.html).  The dataset consists of airplanes, dogs, cats, and other objects. You'll preprocess the images, then train a convolutional neural network on all the samples. The images need to be normalized and the labels need to be one-hot encoded.  You'll get to apply what you learned and build a convolutional, max pooling, dropout, and fully connected layers.  At the end, you'll get to see your neural network's predictions on the sample images.\n",
    "## Get the Data\n",
    "Run the following cell to download the [CIFAR-10 dataset for python](https://www.cs.toronto.edu/~kriz/cifar-10-python.tar.gz)."
   ]
  },
  {
   "cell_type": "code",
   "execution_count": 1,
   "metadata": {},
   "outputs": [
    {
     "name": "stdout",
     "output_type": "stream",
     "text": [
      "All files found!\n"
     ]
    }
   ],
   "source": [
    "\"\"\"\n",
    "DON'T MODIFY ANYTHING IN THIS CELL THAT IS BELOW THIS LINE\n",
    "\"\"\"\n",
    "from urllib.request import urlretrieve\n",
    "from os.path import isfile, isdir\n",
    "from tqdm import tqdm\n",
    "import problem_unittests as tests\n",
    "import tarfile\n",
    "\n",
    "cifar10_dataset_folder_path = 'cifar-10-batches-py'\n",
    "\n",
    "class DLProgress(tqdm):\n",
    "    last_block = 0\n",
    "\n",
    "    def hook(self, block_num=1, block_size=1, total_size=None):\n",
    "        self.total = total_size\n",
    "        self.update((block_num - self.last_block) * block_size)\n",
    "        self.last_block = block_num\n",
    "\n",
    "if not isfile('cifar-10-python.tar.gz'):\n",
    "    with DLProgress(unit='B', unit_scale=True, miniters=1, desc='CIFAR-10 Dataset') as pbar:\n",
    "        urlretrieve(\n",
    "            'https://www.cs.toronto.edu/~kriz/cifar-10-python.tar.gz',\n",
    "            'cifar-10-python.tar.gz',\n",
    "            pbar.hook)\n",
    "\n",
    "if not isdir(cifar10_dataset_folder_path):\n",
    "    with tarfile.open('cifar-10-python.tar.gz') as tar:\n",
    "        tar.extractall()\n",
    "        tar.close()\n",
    "\n",
    "\n",
    "tests.test_folder_path(cifar10_dataset_folder_path)"
   ]
  },
  {
   "cell_type": "markdown",
   "metadata": {},
   "source": [
    "## Explore the Data\n",
    "The dataset is broken into batches to prevent your machine from running out of memory.  The CIFAR-10 dataset consists of 5 batches, named `data_batch_1`, `data_batch_2`, etc.. Each batch contains the labels and images that are one of the following:\n",
    "* airplane\n",
    "* automobile\n",
    "* bird\n",
    "* cat\n",
    "* deer\n",
    "* dog\n",
    "* frog\n",
    "* horse\n",
    "* ship\n",
    "* truck\n",
    "\n",
    "Understanding a dataset is part of making predictions on the data.  Play around with the code cell below by changing the `batch_id` and `sample_id`. The `batch_id` is the id for a batch (1-5). The `sample_id` is the id for a image and label pair in the batch.\n",
    "\n",
    "Ask yourself \"What are all possible labels?\", \"What is the range of values for the image data?\", \"Are the labels in order or random?\".  Answers to questions like these will help you preprocess the data and end up with better predictions."
   ]
  },
  {
   "cell_type": "code",
   "execution_count": 3,
   "metadata": {},
   "outputs": [
    {
     "name": "stdout",
     "output_type": "stream",
     "text": [
      "\n",
      "Stats of batch 1:\n",
      "Samples: 10000\n",
      "Label Counts: {0: 1005, 1: 974, 2: 1032, 3: 1016, 4: 999, 5: 937, 6: 1030, 7: 1001, 8: 1025, 9: 981}\n",
      "First 20 Labels: [6, 9, 9, 4, 1, 1, 2, 7, 8, 3, 4, 7, 7, 2, 9, 9, 9, 3, 2, 6]\n",
      "\n",
      "Example of Image 10:\n",
      "Image - Min Value: 24 Max Value: 130\n",
      "Image - Shape: (32, 32, 3)\n",
      "Label - Label Id: 4 Name: deer\n"
     ]
    },
    {
     "data": {
      "image/png": "[encoded data removed]",
      "text/plain": [
       "<matplotlib.figure.Figure at 0x7f68dc91ce80>"
      ]
     },
     "metadata": {
      "image/png": {
       "height": 250,
       "width": 253
      }
     },
     "output_type": "display_data"
    }
   ],
   "source": [
    "%matplotlib inline\n",
    "%config InlineBackend.figure_format = 'retina'\n",
    "\n",
    "import helper\n",
    "import numpy as np\n",
    "\n",
    "# Explore the dataset\n",
    "batch_id = 1\n",
    "sample_id = 10\n",
    "\n",
    "helper.display_stats(cifar10_dataset_folder_path, batch_id, sample_id)"
   ]
  },
  {
   "cell_type": "markdown",
   "metadata": {},
   "source": [
    "## Implement Preprocess Functions\n",
    "### Normalize\n",
    "In the cell below, implement the `normalize` function to take in image data, `x`, and return it as a normalized Numpy array. The values should be in the range of 0 to 1, inclusive.  The return object should be the same shape as `x`."
   ]
  },
  {
   "cell_type": "code",
   "execution_count": 4,
   "metadata": {},
   "outputs": [
    {
     "name": "stdout",
     "output_type": "stream",
     "text": [
      "Tests Passed\n"
     ]
    }
   ],
   "source": [
    "def normalize(x):\n",
    "    \"\"\"\n",
    "    Normalize a list of sample image data in the range of 0 to 1\n",
    "    : x: List of image data.  The image shape is (32, 32, 3)\n",
    "    : return: Numpy array of normalize data\n",
    "    \"\"\"\n",
    "    # TODO: Implement Function\n",
    "    '''\n",
    "    # 这个方法不对，scaler.transform只能够接受一个二维数组\n",
    "    from sklearn.preprocessing import MinMaxScaler\n",
    "    scaler = MinMaxScaler(feature_range=(0, 1))\n",
    "    scaler.fit(x)\n",
    "    return scaler.transform(x)\n",
    "    '''\n",
    "    a = 0.0\n",
    "    b = 1.0\n",
    "    max_x = np.amax(x)\n",
    "    min_x = np.amin(x)\n",
    "    return a + (x - min_x)*(b - a)/(max_x - min_x)\n",
    "\n",
    "\n",
    "\"\"\"\n",
    "DON'T MODIFY ANYTHING IN THIS CELL THAT IS BELOW THIS LINE\n",
    "\"\"\"\n",
    "tests.test_normalize(normalize)"
   ]
  },
  {
   "cell_type": "markdown",
   "metadata": {},
   "source": [
    "### One-hot encode\n",
    "Just like the previous code cell, you'll be implementing a function for preprocessing.  This time, you'll implement the `one_hot_encode` function. The input, `x`, are a list of labels.  Implement the function to return the list of labels as One-Hot encoded Numpy array.  The possible values for labels are 0 to 9. The one-hot encoding function should return the same encoding for each value between each call to `one_hot_encode`.  Make sure to save the map of encodings outside the function.\n",
    "\n",
    "**Hint:**\n",
    "\n",
    "Look into LabelBinarizer in the preprocessing module of sklearn."
   ]
  },
  {
   "cell_type": "code",
   "execution_count": 5,
   "metadata": {},
   "outputs": [
    {
     "name": "stdout",
     "output_type": "stream",
     "text": [
      "Tests Passed\n"
     ]
    }
   ],
   "source": [
    "def one_hot_encode(x):\n",
    "    \"\"\"\n",
    "    One hot encode a list of sample labels. Return a one-hot encoded vector for each label.\n",
    "    : x: List of sample Labels\n",
    "    : return: Numpy array of one-hot encoded labels\n",
    "    \"\"\"\n",
    "    # TODO: Implement Function\n",
    "    from sklearn.preprocessing import LabelBinarizer\n",
    "    encoding_map = np.array([0,1,2,3,4,5,6,7,8,9])\n",
    "    one_hot_transfer = LabelBinarizer()\n",
    "    one_hot_transfer.fit(encoding_map)\n",
    "    return one_hot_transfer.transform(x)\n",
    "\n",
    "\n",
    "\n",
    "\"\"\"\n",
    "DON'T MODIFY ANYTHING IN THIS CELL THAT IS BELOW THIS LINE\n",
    "\"\"\"\n",
    "tests.test_one_hot_encode(one_hot_encode)"
   ]
  },
  {
   "cell_type": "markdown",
   "metadata": {},
   "source": [
    "### Randomize Data\n",
    "As you saw from exploring the data above, the order of the samples are randomized.  It doesn't hurt to randomize it again, but you don't need to for this dataset."
   ]
  },
  {
   "cell_type": "markdown",
   "metadata": {},
   "source": [
    "## Preprocess all the data and save it\n",
    "Running the code cell below will preprocess all the CIFAR-10 data and save it to file. The code below also uses 10% of the training data for validation."
   ]
  },
  {
   "cell_type": "code",
   "execution_count": 6,
   "metadata": {},
   "outputs": [],
   "source": [
    "\"\"\"\n",
    "DON'T MODIFY ANYTHING IN THIS CELL\n",
    "\"\"\"\n",
    "# Preprocess Training, Validation, and Testing Data\n",
    "helper.preprocess_and_save_data(cifar10_dataset_folder_path, normalize, one_hot_encode)"
   ]
  },
  {
   "cell_type": "markdown",
   "metadata": {},
   "source": [
    "# Check Point\n",
    "This is your first checkpoint.  If you ever decide to come back to this notebook or have to restart the notebook, you can start from here.  The preprocessed data has been saved to disk."
   ]
  },
  {
   "cell_type": "code",
   "execution_count": 7,
   "metadata": {},
   "outputs": [],
   "source": [
    "\"\"\"\n",
    "DON'T MODIFY ANYTHING IN THIS CELL\n",
    "\"\"\"\n",
    "import pickle\n",
    "import problem_unittests as tests\n",
    "import helper\n",
    "\n",
    "# Load the Preprocessed Validation data\n",
    "valid_features, valid_labels = pickle.load(open('preprocess_validation.p', mode='rb'))"
   ]
  },
  {
   "cell_type": "markdown",
   "metadata": {},
   "source": [
    "## Build the network\n",
    "For the neural network, you'll build each layer into a function.  Most of the code you've seen has been outside of functions. To test your code more thoroughly, we require that you put each layer in a function.  This allows us to give you better feedback and test for simple mistakes using our unittests before you submit your project.\n",
    "\n",
    ">**Note:** If you're finding it hard to dedicate enough time for this course each week, we've provided a small shortcut to this part of the project. In the next couple of problems, you'll have the option to use classes from the [TensorFlow Layers](https://www.tensorflow.org/api_docs/python/tf/layers) or [TensorFlow Layers (contrib)](https://www.tensorflow.org/api_guides/python/contrib.layers) packages to build each layer, except the layers you build in the \"Convolutional and Max Pooling Layer\" section.  TF Layers is similar to Keras's and TFLearn's abstraction to layers, so it's easy to pickup.\n",
    "\n",
    ">However, if you would like to get the most out of this course, try to solve all the problems _without_ using anything from the TF Layers packages. You **can** still use classes from other packages that happen to have the same name as ones you find in TF Layers! For example, instead of using the TF Layers version of the `conv2d` class, [tf.layers.conv2d](https://www.tensorflow.org/api_docs/python/tf/layers/conv2d), you would want to use the TF Neural Network version of `conv2d`, [tf.nn.conv2d](https://www.tensorflow.org/api_docs/python/tf/nn/conv2d). \n",
    "\n",
    "Let's begin!\n",
    "\n",
    "### Input\n",
    "The neural network needs to read the image data, one-hot encoded labels, and dropout keep probability. Implement the following functions\n",
    "* Implement `neural_net_image_input`\n",
    " * Return a [TF Placeholder](https://www.tensorflow.org/api_docs/python/tf/placeholder)\n",
    " * Set the shape using `image_shape` with batch size set to `None`.\n",
    " * Name the TensorFlow placeholder \"x\" using the TensorFlow `name` parameter in the [TF Placeholder](https://www.tensorflow.org/api_docs/python/tf/placeholder).\n",
    "* Implement `neural_net_label_input`\n",
    " * Return a [TF Placeholder](https://www.tensorflow.org/api_docs/python/tf/placeholder)\n",
    " * Set the shape using `n_classes` with batch size set to `None`.\n",
    " * Name the TensorFlow placeholder \"y\" using the TensorFlow `name` parameter in the [TF Placeholder](https://www.tensorflow.org/api_docs/python/tf/placeholder).\n",
    "* Implement `neural_net_keep_prob_input`\n",
    " * Return a [TF Placeholder](https://www.tensorflow.org/api_docs/python/tf/placeholder) for dropout keep probability.\n",
    " * Name the TensorFlow placeholder \"keep_prob\" using the TensorFlow `name` parameter in the [TF Placeholder](https://www.tensorflow.org/api_docs/python/tf/placeholder).\n",
    "\n",
    "These names will be used at the end of the project to load your saved model.\n",
    "\n",
    "Note: `None` for shapes in TensorFlow allow for a dynamic size."
   ]
  },
  {
   "cell_type": "code",
   "execution_count": 8,
   "metadata": {},
   "outputs": [
    {
     "name": "stdout",
     "output_type": "stream",
     "text": [
      "Image Input Tests Passed.\n",
      "Label Input Tests Passed.\n",
      "Keep Prob Tests Passed.\n"
     ]
    }
   ],
   "source": [
    "import tensorflow as tf\n",
    "\n",
    "def neural_net_image_input(image_shape):\n",
    "    \"\"\"\n",
    "    Return a Tensor for a batch of image input\n",
    "    : image_shape: Shape of the images\n",
    "    : return: Tensor for image input.\n",
    "    \"\"\"\n",
    "    # TODO: Implement Function\n",
    "    return tf.placeholder(tf.float32, shape=(None,*image_shape), name='x')\n",
    "\n",
    "\n",
    "def neural_net_label_input(n_classes):\n",
    "    \"\"\"\n",
    "    Return a Tensor for a batch of label input\n",
    "    : n_classes: Number of classes\n",
    "    : return: Tensor for label input.\n",
    "    \"\"\"\n",
    "    # TODO: Implement Function\n",
    "    tf_shape = (None, n_classes)\n",
    "    return tf.placeholder(tf.float32, shape=(None, n_classes), name='y')\n",
    "\n",
    "\n",
    "def neural_net_keep_prob_input():\n",
    "    \"\"\"\n",
    "    Return a Tensor for keep probability\n",
    "    : return: Tensor for keep probability.\n",
    "    \"\"\"\n",
    "    # TODO: Implement Function\n",
    "    return tf.placeholder(tf.float32, name='keep_prob')\n",
    "\n",
    "\n",
    "\"\"\"\n",
    "DON'T MODIFY ANYTHING IN THIS CELL THAT IS BELOW THIS LINE\n",
    "\"\"\"\n",
    "tf.reset_default_graph()\n",
    "tests.test_nn_image_inputs(neural_net_image_input)\n",
    "tests.test_nn_label_inputs(neural_net_label_input)\n",
    "tests.test_nn_keep_prob_inputs(neural_net_keep_prob_input)"
   ]
  },
  {
   "cell_type": "markdown",
   "metadata": {},
   "source": [
    "### Convolution and Max Pooling Layer\n",
    "Convolution layers have a lot of success with images. For this code cell, you should implement the function `conv2d_maxpool` to apply convolution then max pooling:\n",
    "* Create the weight and bias using `conv_ksize`, `conv_num_outputs` and the shape of `x_tensor`.\n",
    "* Apply a convolution to `x_tensor` using weight and `conv_strides`.\n",
    " * We recommend you use same padding, but you're welcome to use any padding.\n",
    "* Add bias\n",
    "* Add a nonlinear activation to the convolution.\n",
    "* Apply Max Pooling using `pool_ksize` and `pool_strides`.\n",
    " * We recommend you use same padding, but you're welcome to use any padding.\n",
    "\n",
    "**Note:** You **can't** use [TensorFlow Layers](https://www.tensorflow.org/api_docs/python/tf/layers) or [TensorFlow Layers (contrib)](https://www.tensorflow.org/api_guides/python/contrib.layers) for **this** layer, but you can still use TensorFlow's [Neural Network](https://www.tensorflow.org/api_docs/python/tf/nn) package. You may still use the shortcut option for all the **other** layers.\n",
    "\n",
    "** Hint: **\n",
    "\n",
    "When unpacking values as an argument in Python, look into the [unpacking](https://docs.python.org/3/tutorial/controlflow.html#unpacking-argument-lists) operator. "
   ]
  },
  {
   "cell_type": "code",
   "execution_count": 9,
   "metadata": {},
   "outputs": [
    {
     "name": "stdout",
     "output_type": "stream",
     "text": [
      "Tests Passed\n"
     ]
    }
   ],
   "source": [
    "def conv2d_maxpool(x_tensor, conv_num_outputs, conv_ksize, conv_strides, pool_ksize, pool_strides):\n",
    "    \"\"\"\n",
    "    Apply convolution then max pooling to x_tensor\n",
    "    :param x_tensor: TensorFlow Tensor\n",
    "    :param conv_num_outputs: Number of outputs for the convolutional layer\n",
    "    :param conv_ksize: kernal size 2-D Tuple for the convolutional layer\n",
    "    :param conv_strides: Stride 2-D Tuple for convolution\n",
    "    :param pool_ksize: kernal size 2-D Tuple for pool\n",
    "    :param pool_strides: Stride 2-D Tuple for pool\n",
    "    : return: A tensor that represents convolution and max pooling of x_tensor\n",
    "    \"\"\"\n",
    "    # TODO: Implement Function\n",
    "    filter_height = conv_ksize[0]\n",
    "    filter_width = conv_ksize[1]\n",
    "    in_depth = x_tensor.get_shape().as_list()[-1]\n",
    "    out_depth = conv_num_outputs  #不太确定对不对\n",
    "    \n",
    "    weight = tf.Variable(tf.truncated_normal((filter_height, filter_width, in_depth, out_depth),stddev=0.01),dtype=tf.float32)\n",
    "    bias=tf.Variable(tf.zeros(out_depth),dtype=tf.float32)\n",
    "    \n",
    "    conv2d_output = tf.nn.conv2d(x_tensor,weight,(1,*conv_strides,1),padding='SAME')\n",
    "    conv2d_output = tf.nn.bias_add(conv2d_output, bias)\n",
    "    conv2d_activate = tf.nn.relu(conv2d_output)\n",
    "    \n",
    "    conv2d_maxpool_output = tf.nn.max_pool(conv2d_activate,(1,*pool_ksize,1),(1,*pool_strides,1),padding='SAME')\n",
    "    \n",
    "    return conv2d_maxpool_output\n",
    "\n",
    "\n",
    "\"\"\"\n",
    "DON'T MODIFY ANYTHING IN THIS CELL THAT IS BELOW THIS LINE\n",
    "\"\"\"\n",
    "tests.test_con_pool(conv2d_maxpool)"
   ]
  },
  {
   "cell_type": "markdown",
   "metadata": {},
   "source": [
    "### Flatten Layer\n",
    "Implement the `flatten` function to change the dimension of `x_tensor` from a 4-D tensor to a 2-D tensor.  The output should be the shape (*Batch Size*, *Flattened Image Size*). Shortcut option: you can use classes from the [TensorFlow Layers](https://www.tensorflow.org/api_docs/python/tf/layers) or [TensorFlow Layers (contrib)](https://www.tensorflow.org/api_guides/python/contrib.layers) packages for this layer. For more of a challenge, only use other TensorFlow packages."
   ]
  },
  {
   "cell_type": "code",
   "execution_count": 10,
   "metadata": {},
   "outputs": [
    {
     "name": "stdout",
     "output_type": "stream",
     "text": [
      "Tests Passed\n"
     ]
    }
   ],
   "source": [
    "def flatten(x_tensor):\n",
    "    \"\"\"\n",
    "    Flatten x_tensor to (Batch Size, Flattened Image Size)\n",
    "    : x_tensor: A tensor of size (Batch Size, ...), where ... are the image dimensions.\n",
    "    : return: A tensor of size (Batch Size, Flattened Image Size).\n",
    "    \"\"\"\n",
    "    # TODO: Implement Function\n",
    "    x_tensor_shape = x_tensor.get_shape().as_list()\n",
    "    flatten_image_size = x_tensor_shape[1] * x_tensor_shape[2] * x_tensor_shape[3]\n",
    "    return tf.reshape(x_tensor,[-1, flatten_image_size])\n",
    "\n",
    "\n",
    "\"\"\"\n",
    "DON'T MODIFY ANYTHING IN THIS CELL THAT IS BELOW THIS LINE\n",
    "\"\"\"\n",
    "tests.test_flatten(flatten)"
   ]
  },
  {
   "cell_type": "markdown",
   "metadata": {},
   "source": [
    "### Fully-Connected Layer\n",
    "Implement the `fully_conn` function to apply a fully connected layer to `x_tensor` with the shape (*Batch Size*, *num_outputs*). Shortcut option: you can use classes from the [TensorFlow Layers](https://www.tensorflow.org/api_docs/python/tf/layers) or [TensorFlow Layers (contrib)](https://www.tensorflow.org/api_guides/python/contrib.layers) packages for this layer. For more of a challenge, only use other TensorFlow packages."
   ]
  },
  {
   "cell_type": "code",
   "execution_count": 11,
   "metadata": {},
   "outputs": [
    {
     "name": "stdout",
     "output_type": "stream",
     "text": [
      "Tests Passed\n"
     ]
    }
   ],
   "source": [
    "def fully_conn(x_tensor, num_outputs):\n",
    "    \"\"\"\n",
    "    Apply a fully connected layer to x_tensor using weight and bias\n",
    "    : x_tensor: A 2-D tensor where the first dimension is batch size.\n",
    "    : num_outputs: The number of output that the new tensor should be.\n",
    "    : return: A 2-D tensor where the second dimension is num_outputs.\n",
    "    \"\"\"\n",
    "    # TODO: Implement Function\n",
    "    input_dim = x_tensor.get_shape().as_list()[1]\n",
    "    weight_full_conn = tf.Variable(tf.truncated_normal((input_dim, num_outputs),stddev=0.01),dtype=tf.float32)\n",
    "    bias_full_conn = tf.Variable(tf.zeros(num_outputs),dtype=tf.float32)\n",
    "    \n",
    "    fully_conn_tensor = tf.add(tf.matmul(x_tensor, weight_full_conn),bias_full_conn)\n",
    "    fully_conn_tensor = tf.nn.relu(fully_conn_tensor)\n",
    "    #这里是否需要做dropout\n",
    "    #经reviewer反馈，这里不需要做dropout。因为并不需要在每一层都进行dropout，在构建神经网络的时候添加dropout更灵活\n",
    "    #fully_conn_tensor = tf.nn.dropout(fully_conn_tensor, keep_prob=drop_outs)\n",
    "    return fully_conn_tensor\n",
    "\n",
    "\n",
    "\"\"\"\n",
    "DON'T MODIFY ANYTHING IN THIS CELL THAT IS BELOW THIS LINE\n",
    "\"\"\"\n",
    "tests.test_fully_conn(fully_conn)"
   ]
  },
  {
   "cell_type": "markdown",
   "metadata": {},
   "source": [
    "### Output Layer\n",
    "Implement the `output` function to apply a fully connected layer to `x_tensor` with the shape (*Batch Size*, *num_outputs*). Shortcut option: you can use classes from the [TensorFlow Layers](https://www.tensorflow.org/api_docs/python/tf/layers) or [TensorFlow Layers (contrib)](https://www.tensorflow.org/api_guides/python/contrib.layers) packages for this layer. For more of a challenge, only use other TensorFlow packages.\n",
    "\n",
    "**Note:** Activation, softmax, or cross entropy should **not** be applied to this."
   ]
  },
  {
   "cell_type": "code",
   "execution_count": 12,
   "metadata": {},
   "outputs": [
    {
     "name": "stdout",
     "output_type": "stream",
     "text": [
      "Tests Passed\n"
     ]
    }
   ],
   "source": [
    "def output(x_tensor, num_outputs):\n",
    "    \"\"\"\n",
    "    Apply a output layer to x_tensor using weight and bias\n",
    "    : x_tensor: A 2-D tensor where the first dimension is batch size.\n",
    "    : num_outputs: The number of output that the new tensor should be.\n",
    "    : return: A 2-D tensor where the second dimension is num_outputs.\n",
    "    \"\"\"\n",
    "    # TODO: Implement Function\n",
    "    # print(num_outputs)\n",
    "    weight_output = tf.Variable(tf.truncated_normal((x_tensor.get_shape().as_list()[-1], num_outputs),stddev=0.01),dtype=tf.float32)\n",
    "    bias_output = tf.Variable(tf.zeros(num_outputs),dtype=tf.float32)\n",
    "    \n",
    "    output = tf.add(tf.matmul(x_tensor, weight_output), bias_output)\n",
    "    return output\n",
    "\n",
    "\n",
    "\"\"\"\n",
    "DON'T MODIFY ANYTHING IN THIS CELL THAT IS BELOW THIS LINE\n",
    "\"\"\"\n",
    "tests.test_output(output)"
   ]
  },
  {
   "cell_type": "markdown",
   "metadata": {},
   "source": [
    "### Create Convolutional Model\n",
    "Implement the function `conv_net` to create a convolutional neural network model. The function takes in a batch of images, `x`, and outputs logits.  Use the layers you created above to create this model:\n",
    "\n",
    "* Apply 1, 2, or 3 Convolution and Max Pool layers\n",
    "* Apply a Flatten Layer\n",
    "* Apply 1, 2, or 3 Fully Connected Layers\n",
    "* Apply an Output Layer\n",
    "* Return the output\n",
    "* Apply [TensorFlow's Dropout](https://www.tensorflow.org/api_docs/python/tf/nn/dropout) to one or more layers in the model using `keep_prob`. "
   ]
  },
  {
   "cell_type": "code",
   "execution_count": 13,
   "metadata": {},
   "outputs": [
    {
     "name": "stdout",
     "output_type": "stream",
     "text": [
      "Neural Network Built!\n"
     ]
    }
   ],
   "source": [
    "def conv_net(x, keep_prob):\n",
    "    \"\"\"\n",
    "    Create a convolutional neural network model\n",
    "    : x: Placeholder tensor that holds image data.\n",
    "    : keep_prob: Placeholder tensor that hold dropout keep probability.\n",
    "    : return: Tensor that represents logits\n",
    "    \"\"\"\n",
    "    # TODO: Apply 1, 2, or 3 Convolution and Max Pool layers\n",
    "    #    Play around with different number of outputs, kernel size and stride\n",
    "    # Function Definition from Above:\n",
    "    #    conv2d_maxpool(x_tensor, conv_num_outputs, conv_ksize, conv_strides, pool_ksize, pool_strides)\n",
    "    #设为2的n次方有利于计算\n",
    "    conv_num_outputs = [32, 64]\n",
    "    #conv_ksize = [[5, 5], [4, 4]] 建议修改3,3\n",
    "    conv_ksize = [[3, 3], [3, 3]]\n",
    "    #conv_strides = [[2, 2], [1, 1]] 在图像小的时候strides设置为1, 1更加合理，避免丢失信息\n",
    "    conv_strides = [[1, 1], [1, 2]]\n",
    "    pool_ksize = [[2 ,2], [2, 2]]\n",
    "    pool_stides = [[2, 2], [2, 2]]\n",
    "    conv_layer_num = 2\n",
    "    conv = x\n",
    "    for i in range(conv_layer_num) :\n",
    "        conv = conv2d_maxpool(conv, conv_num_outputs[i], conv_ksize[i], conv_strides[i],\\\n",
    "                              pool_ksize[i], pool_stides[i])\n",
    "\n",
    "    # TODO: Apply a Flatten Layer\n",
    "    # Function Definition from Above:\n",
    "    #   flatten(x_tensor)\n",
    "    flat = flatten(conv)\n",
    "    \n",
    "\n",
    "    # TODO: Apply 1, 2, or 3 Fully Connected Layers\n",
    "    #    Play around with different number of outputs\n",
    "    # Function Definition from Above:\n",
    "    #   fully_conn(x_tensor, num_outputs)\n",
    "    #num_outputs = 50 全连接节点书reviewer建议递减\n",
    "    num_outputs = [128, 64]\n",
    "    ful_con_layer_num = 2\n",
    "    ful_con = flat\n",
    "    #for i in range(ful_con_layer_num):\n",
    "    #    ful_con = fully_conn(ful_con, num_outputs, keep_prob)\n",
    "    ful_con = fully_conn(ful_con, num_outputs[0])\n",
    "    ful_con = tf.nn.dropout(ful_con, keep_prob=keep_prob)\n",
    "    ful_con = fully_conn(ful_con, num_outputs[1])\n",
    "    \n",
    "    \n",
    "    # TODO: Apply an Output Layer\n",
    "    #    Set this to the number of classes\n",
    "    # Function Definition from Above:\n",
    "    #   output(x_tensor, num_outputs)\n",
    "    \n",
    "    result = output(ful_con, 10)\n",
    "    # TODO: return output\n",
    "    return result\n",
    "\n",
    "\n",
    "\"\"\"\n",
    "DON'T MODIFY ANYTHING IN THIS CELL THAT IS BELOW THIS LINE\n",
    "\"\"\"\n",
    "\n",
    "##############################\n",
    "## Build the Neural Network ##\n",
    "##############################\n",
    "\n",
    "# Remove previous weights, bias, inputs, etc..\n",
    "tf.reset_default_graph()\n",
    "\n",
    "# Inputs\n",
    "x = neural_net_image_input((32, 32, 3))\n",
    "y = neural_net_label_input(10)\n",
    "keep_prob = neural_net_keep_prob_input()\n",
    "\n",
    "# Model\n",
    "logits = conv_net(x, keep_prob)\n",
    "\n",
    "# Name logits Tensor, so that is can be loaded from disk after training\n",
    "logits = tf.identity(logits, name='logits')\n",
    "\n",
    "# Loss and Optimizer\n",
    "cost = tf.reduce_mean(tf.nn.softmax_cross_entropy_with_logits(logits=logits, labels=y))\n",
    "optimizer = tf.train.AdamOptimizer().minimize(cost)\n",
    "\n",
    "# Accuracy\n",
    "correct_pred = tf.equal(tf.argmax(logits, 1), tf.argmax(y, 1))\n",
    "accuracy = tf.reduce_mean(tf.cast(correct_pred, tf.float32), name='accuracy')\n",
    "\n",
    "tests.test_conv_net(conv_net)"
   ]
  },
  {
   "cell_type": "markdown",
   "metadata": {},
   "source": [
    "## Train the Neural Network\n",
    "### Single Optimization\n",
    "Implement the function `train_neural_network` to do a single optimization.  The optimization should use `optimizer` to optimize in `session` with a `feed_dict` of the following:\n",
    "* `x` for image input\n",
    "* `y` for labels\n",
    "* `keep_prob` for keep probability for dropout\n",
    "\n",
    "This function will be called for each batch, so `tf.global_variables_initializer()` has already been called.\n",
    "\n",
    "Note: Nothing needs to be returned. This function is only optimizing the neural network."
   ]
  },
  {
   "cell_type": "code",
   "execution_count": 14,
   "metadata": {},
   "outputs": [
    {
     "name": "stdout",
     "output_type": "stream",
     "text": [
      "Tests Passed\n"
     ]
    }
   ],
   "source": [
    "def train_neural_network(session, optimizer, keep_probability, feature_batch, label_batch):\n",
    "    \"\"\"\n",
    "    Optimize the session on a batch of images and labels\n",
    "    : session: Current TensorFlow session\n",
    "    : optimizer: TensorFlow optimizer function\n",
    "    : keep_probability: keep probability\n",
    "    : feature_batch: Batch of Numpy image data\n",
    "    : label_batch: Batch of Numpy label data\n",
    "    \"\"\"\n",
    "    # TODO: Implement Function\n",
    "    session.run(optimizer, feed_dict={x:feature_batch, y:label_batch, keep_prob:keep_probability})\n",
    "    pass\n",
    "\n",
    "\n",
    "\"\"\"\n",
    "DON'T MODIFY ANYTHING IN THIS CELL THAT IS BELOW THIS LINE\n",
    "\"\"\"\n",
    "tests.test_train_nn(train_neural_network)"
   ]
  },
  {
   "cell_type": "markdown",
   "metadata": {},
   "source": [
    "### Show Stats\n",
    "Implement the function `print_stats` to print loss and validation accuracy.  Use the global variables `valid_features` and `valid_labels` to calculate validation accuracy.  Use a keep probability of `1.0` to calculate the loss and validation accuracy."
   ]
  },
  {
   "cell_type": "code",
   "execution_count": 15,
   "metadata": {},
   "outputs": [],
   "source": [
    "def print_stats(session, feature_batch, label_batch, cost, accuracy):\n",
    "    \"\"\"\n",
    "    Print information about loss and validation accuracy\n",
    "    : session: Current TensorFlow session\n",
    "    : feature_batch: Batch of Numpy image data\n",
    "    : label_batch: Batch of Numpy label data\n",
    "    : cost: TensorFlow cost function\n",
    "    : accuracy: TensorFlow accuracy function\n",
    "    \"\"\"\n",
    "    print(session.run(cost, feed_dict={x:feature_batch, y:label_batch, keep_prob:1.0}))\n",
    "    print(session.run(accuracy, feed_dict={x:valid_features, y:valid_labels, keep_prob:1.0}))\n",
    "    # TODO: Implement Function\n",
    "    pass"
   ]
  },
  {
   "cell_type": "markdown",
   "metadata": {},
   "source": [
    "### Hyperparameters\n",
    "Tune the following parameters:\n",
    "* Set `epochs` to the number of iterations until the network stops learning or start overfitting\n",
    "* Set `batch_size` to the highest number that your machine has memory for.  Most people set them to common sizes of memory:\n",
    " * 64\n",
    " * 128\n",
    " * 256\n",
    " * ...\n",
    "* Set `keep_probability` to the probability of keeping a node using dropout"
   ]
  },
  {
   "cell_type": "code",
   "execution_count": 16,
   "metadata": {},
   "outputs": [],
   "source": [
    "# TODO: Tune Parameters\n",
    "epochs = 20\n",
    "batch_size = 256\n",
    "keep_probability = 0.9"
   ]
  },
  {
   "cell_type": "markdown",
   "metadata": {},
   "source": [
    "### Train on a Single CIFAR-10 Batch\n",
    "Instead of training the neural network on all the CIFAR-10 batches of data, let's use a single batch. This should save time while you iterate on the model to get a better accuracy.  Once the final validation accuracy is 50% or greater, run the model on all the data in the next section."
   ]
  },
  {
   "cell_type": "code",
   "execution_count": 18,
   "metadata": {},
   "outputs": [
    {
     "name": "stdout",
     "output_type": "stream",
     "text": [
      "Checking the Training on a Single Batch...\n",
      "Epoch  1, CIFAR-10 Batch 1:  2.26521\n",
      "0.1422\n",
      "Epoch  2, CIFAR-10 Batch 1:  2.25062\n",
      "0.1816\n",
      "Epoch  3, CIFAR-10 Batch 1:  2.24483\n",
      "0.2088\n",
      "Epoch  4, CIFAR-10 Batch 1:  2.22098\n",
      "0.2322\n",
      "Epoch  5, CIFAR-10 Batch 1:  2.24466\n",
      "0.242\n",
      "Epoch  6, CIFAR-10 Batch 1:  2.22576\n",
      "0.2642\n",
      "Epoch  7, CIFAR-10 Batch 1:  2.18949\n",
      "0.2882\n",
      "Epoch  8, CIFAR-10 Batch 1:  2.13499\n",
      "0.3168\n",
      "Epoch  9, CIFAR-10 Batch 1:  2.02609\n",
      "0.3456\n",
      "Epoch 10, CIFAR-10 Batch 1:  1.95212\n",
      "0.3622\n",
      "Epoch 11, CIFAR-10 Batch 1:  1.90211\n",
      "0.3708\n",
      "Epoch 12, CIFAR-10 Batch 1:  1.89063\n",
      "0.384\n",
      "Epoch 13, CIFAR-10 Batch 1:  1.82791\n",
      "0.3896\n",
      "Epoch 14, CIFAR-10 Batch 1:  1.78508\n",
      "0.4106\n",
      "Epoch 15, CIFAR-10 Batch 1:  1.71756\n",
      "0.4038\n",
      "Epoch 16, CIFAR-10 Batch 1:  1.63589\n",
      "0.4044\n",
      "Epoch 17, CIFAR-10 Batch 1:  1.59887\n",
      "0.4174\n",
      "Epoch 18, CIFAR-10 Batch 1:  1.54026\n",
      "0.4254\n",
      "Epoch 19, CIFAR-10 Batch 1:  1.47237\n",
      "0.4326\n",
      "Epoch 20, CIFAR-10 Batch 1:  1.44252\n",
      "0.4284\n"
     ]
    }
   ],
   "source": [
    "\"\"\"\n",
    "DON'T MODIFY ANYTHING IN THIS CELL\n",
    "\"\"\"\n",
    "print('Checking the Training on a Single Batch...')\n",
    "with tf.Session() as sess:\n",
    "    # Initializing the variables\n",
    "    sess.run(tf.global_variables_initializer())\n",
    "    \n",
    "    # Training cycle\n",
    "    for epoch in range(epochs):\n",
    "        batch_i = 1\n",
    "        for batch_features, batch_labels in helper.load_preprocess_training_batch(batch_i, batch_size):\n",
    "            train_neural_network(sess, optimizer, keep_probability, batch_features, batch_labels)\n",
    "        print('Epoch {:>2}, CIFAR-10 Batch {}:  '.format(epoch + 1, batch_i), end='')\n",
    "        print_stats(sess, batch_features, batch_labels, cost, accuracy)"
   ]
  },
  {
   "cell_type": "markdown",
   "metadata": {},
   "source": [
    "### Fully Train the Model\n",
    "Now that you got a good accuracy with a single CIFAR-10 batch, try it with all five batches."
   ]
  },
  {
   "cell_type": "code",
   "execution_count": 19,
   "metadata": {},
   "outputs": [
    {
     "name": "stdout",
     "output_type": "stream",
     "text": [
      "Training...\n",
      "Epoch  1, CIFAR-10 Batch 1:  2.26851\n",
      "0.1362\n",
      "Epoch  1, CIFAR-10 Batch 2:  2.176\n",
      "0.1766\n",
      "Epoch  1, CIFAR-10 Batch 3:  1.91966\n",
      "0.2166\n",
      "Epoch  1, CIFAR-10 Batch 4:  2.02994\n",
      "0.2514\n",
      "Epoch  1, CIFAR-10 Batch 5:  2.05359\n",
      "0.2666\n",
      "Epoch  2, CIFAR-10 Batch 1:  2.28178\n",
      "0.2738\n",
      "Epoch  2, CIFAR-10 Batch 2:  2.03285\n",
      "0.2944\n",
      "Epoch  2, CIFAR-10 Batch 3:  1.72996\n",
      "0.283\n",
      "Epoch  2, CIFAR-10 Batch 4:  1.71841\n",
      "0.3298\n",
      "Epoch  2, CIFAR-10 Batch 5:  1.75508\n",
      "0.367\n",
      "Epoch  3, CIFAR-10 Batch 1:  2.02201\n",
      "0.3804\n",
      "Epoch  3, CIFAR-10 Batch 2:  1.80938\n",
      "0.3946\n",
      "Epoch  3, CIFAR-10 Batch 3:  1.38263\n",
      "0.381\n",
      "Epoch  3, CIFAR-10 Batch 4:  1.48123\n",
      "0.4062\n",
      "Epoch  3, CIFAR-10 Batch 5:  1.64367\n",
      "0.4224\n",
      "Epoch  4, CIFAR-10 Batch 1:  1.81035\n",
      "0.4258\n",
      "Epoch  4, CIFAR-10 Batch 2:  1.60969\n",
      "0.4278\n",
      "Epoch  4, CIFAR-10 Batch 3:  1.28162\n",
      "0.415\n",
      "Epoch  4, CIFAR-10 Batch 4:  1.43256\n",
      "0.4176\n",
      "Epoch  4, CIFAR-10 Batch 5:  1.52325\n",
      "0.448\n",
      "Epoch  5, CIFAR-10 Batch 1:  1.7055\n",
      "0.4446\n",
      "Epoch  5, CIFAR-10 Batch 2:  1.48312\n",
      "0.451\n",
      "Epoch  5, CIFAR-10 Batch 3:  1.21516\n",
      "0.4422\n",
      "Epoch  5, CIFAR-10 Batch 4:  1.38147\n",
      "0.4746\n",
      "Epoch  5, CIFAR-10 Batch 5:  1.42239\n",
      "0.474\n",
      "Epoch  6, CIFAR-10 Batch 1:  1.61543\n",
      "0.4664\n",
      "Epoch  6, CIFAR-10 Batch 2:  1.38132\n",
      "0.4752\n",
      "Epoch  6, CIFAR-10 Batch 3:  1.1399\n",
      "0.476\n",
      "Epoch  6, CIFAR-10 Batch 4:  1.32828\n",
      "0.4884\n",
      "Epoch  6, CIFAR-10 Batch 5:  1.37016\n",
      "0.4996\n",
      "Epoch  7, CIFAR-10 Batch 1:  1.51912\n",
      "0.4754\n",
      "Epoch  7, CIFAR-10 Batch 2:  1.29755\n",
      "0.4974\n",
      "Epoch  7, CIFAR-10 Batch 3:  1.0729\n",
      "0.4956\n",
      "Epoch  7, CIFAR-10 Batch 4:  1.28271\n",
      "0.5088\n",
      "Epoch  7, CIFAR-10 Batch 5:  1.32541\n",
      "0.5126\n",
      "Epoch  8, CIFAR-10 Batch 1:  1.46399\n",
      "0.5032\n",
      "Epoch  8, CIFAR-10 Batch 2:  1.19552\n",
      "0.5006\n",
      "Epoch  8, CIFAR-10 Batch 3:  1.00062\n",
      "0.509\n",
      "Epoch  8, CIFAR-10 Batch 4:  1.21356\n",
      "0.5202\n",
      "Epoch  8, CIFAR-10 Batch 5:  1.27382\n",
      "0.5172\n",
      "Epoch  9, CIFAR-10 Batch 1:  1.39192\n",
      "0.514\n",
      "Epoch  9, CIFAR-10 Batch 2:  1.10863\n",
      "0.5086\n",
      "Epoch  9, CIFAR-10 Batch 3:  0.940793\n",
      "0.524\n",
      "Epoch  9, CIFAR-10 Batch 4:  1.13333\n",
      "0.5308\n",
      "Epoch  9, CIFAR-10 Batch 5:  1.20003\n",
      "0.5278\n",
      "Epoch 10, CIFAR-10 Batch 1:  1.26496\n",
      "0.5194\n",
      "Epoch 10, CIFAR-10 Batch 2:  1.01511\n",
      "0.5298\n",
      "Epoch 10, CIFAR-10 Batch 3:  0.863943\n",
      "0.5336\n",
      "Epoch 10, CIFAR-10 Batch 4:  1.06512\n",
      "0.5436\n",
      "Epoch 10, CIFAR-10 Batch 5:  1.09968\n",
      "0.5418\n",
      "Epoch 11, CIFAR-10 Batch 1:  1.18863\n",
      "0.5402\n",
      "Epoch 11, CIFAR-10 Batch 2:  0.96994\n",
      "0.539\n",
      "Epoch 11, CIFAR-10 Batch 3:  0.830773\n",
      "0.5486\n",
      "Epoch 11, CIFAR-10 Batch 4:  0.975142\n",
      "0.5564\n",
      "Epoch 11, CIFAR-10 Batch 5:  0.992278\n",
      "0.5554\n",
      "Epoch 12, CIFAR-10 Batch 1:  1.09867\n",
      "0.5476\n",
      "Epoch 12, CIFAR-10 Batch 2:  0.899807\n",
      "0.5606\n",
      "Epoch 12, CIFAR-10 Batch 3:  0.766877\n",
      "0.556\n",
      "Epoch 12, CIFAR-10 Batch 4:  0.926404\n",
      "0.5692\n",
      "Epoch 12, CIFAR-10 Batch 5:  0.940493\n",
      "0.5598\n",
      "Epoch 13, CIFAR-10 Batch 1:  1.05077\n",
      "0.5548\n",
      "Epoch 13, CIFAR-10 Batch 2:  0.8537\n",
      "0.5718\n",
      "Epoch 13, CIFAR-10 Batch 3:  0.728586\n",
      "0.565\n",
      "Epoch 13, CIFAR-10 Batch 4:  0.845948\n",
      "0.577\n",
      "Epoch 13, CIFAR-10 Batch 5:  0.860445\n",
      "0.5734\n",
      "Epoch 14, CIFAR-10 Batch 1:  0.951318\n",
      "0.5766\n",
      "Epoch 14, CIFAR-10 Batch 2:  0.806862\n",
      "0.5748\n",
      "Epoch 14, CIFAR-10 Batch 3:  0.678272\n",
      "0.5738\n",
      "Epoch 14, CIFAR-10 Batch 4:  0.795517\n",
      "0.5924\n",
      "Epoch 14, CIFAR-10 Batch 5:  0.779871\n",
      "0.5872\n",
      "Epoch 15, CIFAR-10 Batch 1:  0.871101\n",
      "0.5714\n",
      "Epoch 15, CIFAR-10 Batch 2:  0.714982\n",
      "0.5814\n",
      "Epoch 15, CIFAR-10 Batch 3:  0.641005\n",
      "0.587\n",
      "Epoch 15, CIFAR-10 Batch 4:  0.721318\n",
      "0.5964\n",
      "Epoch 15, CIFAR-10 Batch 5:  0.719932\n",
      "0.598\n",
      "Epoch 16, CIFAR-10 Batch 1:  0.817038\n",
      "0.578\n",
      "Epoch 16, CIFAR-10 Batch 2:  0.702084\n",
      "0.5974\n",
      "Epoch 16, CIFAR-10 Batch 3:  0.610991\n",
      "0.596\n",
      "Epoch 16, CIFAR-10 Batch 4:  0.686333\n",
      "0.6034\n",
      "Epoch 16, CIFAR-10 Batch 5:  0.65466\n",
      "0.5984\n",
      "Epoch 17, CIFAR-10 Batch 1:  0.77166\n",
      "0.5856\n",
      "Epoch 17, CIFAR-10 Batch 2:  0.667546\n",
      "0.603\n",
      "Epoch 17, CIFAR-10 Batch 3:  0.567502\n",
      "0.6026\n",
      "Epoch 17, CIFAR-10 Batch 4:  0.625273\n",
      "0.6134\n",
      "Epoch 17, CIFAR-10 Batch 5:  0.597771\n",
      "0.6142\n",
      "Epoch 18, CIFAR-10 Batch 1:  0.722912\n",
      "0.596\n",
      "Epoch 18, CIFAR-10 Batch 2:  0.605735\n",
      "0.6106\n",
      "Epoch 18, CIFAR-10 Batch 3:  0.503183\n",
      "0.614\n",
      "Epoch 18, CIFAR-10 Batch 4:  0.546996\n",
      "0.614\n",
      "Epoch 18, CIFAR-10 Batch 5:  0.56888\n",
      "0.6254\n",
      "Epoch 19, CIFAR-10 Batch 1:  0.70404\n",
      "0.5966\n",
      "Epoch 19, CIFAR-10 Batch 2:  0.539098\n",
      "0.62\n",
      "Epoch 19, CIFAR-10 Batch 3:  0.464945\n",
      "0.618\n",
      "Epoch 19, CIFAR-10 Batch 4:  0.487522\n",
      "0.627\n",
      "Epoch 19, CIFAR-10 Batch 5:  0.519442\n",
      "0.6246\n",
      "Epoch 20, CIFAR-10 Batch 1:  0.633722\n",
      "0.603\n",
      "Epoch 20, CIFAR-10 Batch 2:  0.504142\n",
      "0.6208\n",
      "Epoch 20, CIFAR-10 Batch 3:  0.445132\n",
      "0.6222\n",
      "Epoch 20, CIFAR-10 Batch 4:  0.448356\n",
      "0.6298\n",
      "Epoch 20, CIFAR-10 Batch 5:  0.485438\n",
      "0.633\n"
     ]
    }
   ],
   "source": [
    "\"\"\"\n",
    "DON'T MODIFY ANYTHING IN THIS CELL\n",
    "\"\"\"\n",
    "save_model_path = './image_classification'\n",
    "\n",
    "print('Training...')\n",
    "with tf.Session() as sess:\n",
    "    # Initializing the variables\n",
    "    sess.run(tf.global_variables_initializer())\n",
    "    \n",
    "    # Training cycle\n",
    "    for epoch in range(epochs):\n",
    "        # Loop over all batches\n",
    "        n_batches = 5\n",
    "        for batch_i in range(1, n_batches + 1):\n",
    "            for batch_features, batch_labels in helper.load_preprocess_training_batch(batch_i, batch_size):\n",
    "                train_neural_network(sess, optimizer, keep_probability, batch_features, batch_labels)\n",
    "            print('Epoch {:>2}, CIFAR-10 Batch {}:  '.format(epoch + 1, batch_i), end='')\n",
    "            print_stats(sess, batch_features, batch_labels, cost, accuracy)\n",
    "            \n",
    "    # Save Model\n",
    "    saver = tf.train.Saver()\n",
    "    save_path = saver.save(sess, save_model_path)"
   ]
  },
  {
   "cell_type": "markdown",
   "metadata": {},
   "source": [
    "# Checkpoint\n",
    "The model has been saved to disk.\n",
    "## Test Model\n",
    "Test your model against the test dataset.  This will be your final accuracy. You should have an accuracy greater than 50%. If you don't, keep tweaking the model architecture and parameters."
   ]
  },
  {
   "cell_type": "code",
   "execution_count": 20,
   "metadata": {},
   "outputs": [
    {
     "name": "stdout",
     "output_type": "stream",
     "text": [
      "INFO:tensorflow:Restoring parameters from ./image_classification\n",
      "Testing Accuracy: 0.625390625\n",
      "\n"
     ]
    },
    {
     "data": {
      "image/png": "[encoded data removed]",
      "text/plain": [
       "<matplotlib.figure.Figure at 0x7f68cb397c88>"
      ]
     },
     "metadata": {
      "image/png": {
       "height": 319,
       "width": 355
      }
     },
     "output_type": "display_data"
    }
   ],
   "source": [
    "\"\"\"\n",
    "DON'T MODIFY ANYTHING IN THIS CELL\n",
    "\"\"\"\n",
    "%matplotlib inline\n",
    "%config InlineBackend.figure_format = 'retina'\n",
    "\n",
    "import tensorflow as tf\n",
    "import pickle\n",
    "import helper\n",
    "import random\n",
    "\n",
    "# Set batch size if not already set\n",
    "try:\n",
    "    if batch_size:\n",
    "        pass\n",
    "except NameError:\n",
    "    batch_size = 64\n",
    "\n",
    "save_model_path = './image_classification'\n",
    "n_samples = 4\n",
    "top_n_predictions = 3\n",
    "\n",
    "def test_model():\n",
    "    \"\"\"\n",
    "    Test the saved model against the test dataset\n",
    "    \"\"\"\n",
    "\n",
    "    test_features, test_labels = pickle.load(open('preprocess_training.p', mode='rb'))\n",
    "    loaded_graph = tf.Graph()\n",
    "\n",
    "    with tf.Session(graph=loaded_graph) as sess:\n",
    "        # Load model\n",
    "        loader = tf.train.import_meta_graph(save_model_path + '.meta')\n",
    "        loader.restore(sess, save_model_path)\n",
    "\n",
    "        # Get Tensors from loaded model\n",
    "        loaded_x = loaded_graph.get_tensor_by_name('x:0')\n",
    "        loaded_y = loaded_graph.get_tensor_by_name('y:0')\n",
    "        loaded_keep_prob = loaded_graph.get_tensor_by_name('keep_prob:0')\n",
    "        loaded_logits = loaded_graph.get_tensor_by_name('logits:0')\n",
    "        loaded_acc = loaded_graph.get_tensor_by_name('accuracy:0')\n",
    "        \n",
    "        # Get accuracy in batches for memory limitations\n",
    "        test_batch_acc_total = 0\n",
    "        test_batch_count = 0\n",
    "        \n",
    "        for train_feature_batch, train_label_batch in helper.batch_features_labels(test_features, test_labels, batch_size):\n",
    "            test_batch_acc_total += sess.run(\n",
    "                loaded_acc,\n",
    "                feed_dict={loaded_x: train_feature_batch, loaded_y: train_label_batch, loaded_keep_prob: 1.0})\n",
    "            test_batch_count += 1\n",
    "\n",
    "        print('Testing Accuracy: {}\\n'.format(test_batch_acc_total/test_batch_count))\n",
    "\n",
    "        # Print Random Samples\n",
    "        random_test_features, random_test_labels = tuple(zip(*random.sample(list(zip(test_features, test_labels)), n_samples)))\n",
    "        random_test_predictions = sess.run(\n",
    "            tf.nn.top_k(tf.nn.softmax(loaded_logits), top_n_predictions),\n",
    "            feed_dict={loaded_x: random_test_features, loaded_y: random_test_labels, loaded_keep_prob: 1.0})\n",
    "        helper.display_image_predictions(random_test_features, random_test_labels, random_test_predictions)\n",
    "\n",
    "\n",
    "test_model()"
   ]
  },
  {
   "cell_type": "markdown",
   "metadata": {},
   "source": [
    "## Why 50-80% Accuracy?\n",
    "You might be wondering why you can't get an accuracy any higher. First things first, 50% isn't bad for a simple CNN.  Pure guessing would get you 10% accuracy. That's because there are many more techniques that can be applied to your model and we recemmond that once you are done with this project, you explore!\n",
    "\n",
    "## Submitting This Project\n",
    "When submitting this project, make sure to run all the cells before saving the notebook.  Save the notebook file as \"image_classification.ipynb\" and save it as a HTML file under \"File\" -> \"Download as\".  Include the \"helper.py\" and \"problem_unittests.py\" files in your submission."
   ]
  }
 ],
 "metadata": {
  "kernelspec": {
   "display_name": "Python 3",
   "language": "python",
   "name": "python3"
  },
  "language_info": {
   "codemirror_mode": {
    "name": "ipython",
    "version": 3
   },
   "file_extension": ".py",
   "mimetype": "text/x-python",
   "name": "python",
   "nbconvert_exporter": "python",
   "pygments_lexer": "ipython3",
   "version": "3.5.2"
  }
 },
 "nbformat": 4,
 "nbformat_minor": 1
}
