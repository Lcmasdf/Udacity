{
 "cells": [
  {
   "cell_type": "markdown",
   "metadata": {},
   "source": [
    "画最终模型的框架图"
   ]
  },
  {
   "cell_type": "code",
   "execution_count": 11,
   "metadata": {},
   "outputs": [],
   "source": [
    "from keras.layers import *\n",
    "from keras.applications import resnet50, inception_v3, xception\n",
    "from keras.utils.vis_utils import plot_model\n",
    "from keras import Model\n",
    "from keras.preprocessing import image\n",
    "import numpy as np"
   ]
  },
  {
   "cell_type": "code",
   "execution_count": 6,
   "metadata": {},
   "outputs": [],
   "source": [
    "model_resnet50 = resnet50.ResNet50(weights='imagenet', include_top=False)\n",
    "model_inceptionV3 = inception_v3.InceptionV3(weights='imagenet', include_top=False)\n",
    "model_xception = xception.Xception(weights='imagenet', include_top=False)\n",
    "\n",
    "x_resnet50 = Input(shape=(224,224,3))\n",
    "x_res = model_resnet50(x_resnet50)\n",
    "x_res = GlobalAveragePooling2D()(x_res)\n",
    "\n",
    "x_inceptionV3 = Input(shape=(299,299,3))\n",
    "x_inc = model_inceptionV3(x_inceptionV3)\n",
    "x_inc = GlobalAveragePooling2D()(x_inc)\n",
    "\n",
    "x_xception = Input(shape=(299,299,3))\n",
    "x_xce = model_xception(x_xception)\n",
    "x_xce = GlobalAveragePooling2D()(x_xce)\n",
    "\n",
    "x = Concatenate()([x_res, x_inc, x_xce])\n",
    "\n",
    "x = Dropout(0.5)(x)\n",
    "x = Dense(1, activation='sigmoid')(x)\n",
    "\n",
    "model = Model(inputs=[x_resnet50, x_inceptionV3, x_xception], outputs=x)\n",
    "\n",
    "plot_model(model, show_shapes=False, to_file='fianl_model.png')"
   ]
  },
  {
   "cell_type": "code",
   "execution_count": 9,
   "metadata": {},
   "outputs": [],
   "source": [
    "plot_model(model, show_shapes=True, to_file='fianl_model.png')"
   ]
  },
  {
   "cell_type": "markdown",
   "metadata": {},
   "source": [
    "测试模型运行时间，虽然此模型没有被训练，但是参数个数与最终模型相同，运行时间也相同"
   ]
  },
  {
   "cell_type": "code",
   "execution_count": 13,
   "metadata": {},
   "outputs": [],
   "source": [
    "data_299 = np.zeros((100,299,299,3))\n",
    "data_224 = np.zeros((100,224,224,3))\n",
    "for i in range(100):\n",
    "    img = image.load_img('./train/cat.'+str(i)+'.jpg', target_size=(299,299))\n",
    "    data_299[i] = image.img_to_array(img)\n",
    "    \n",
    "    img = image.load_img('./train/cat.'+str(i)+'.jpg', target_size=(224,224))\n",
    "    data_224[i] = image.img_to_array(img)"
   ]
  },
  {
   "cell_type": "code",
   "execution_count": 14,
   "metadata": {},
   "outputs": [],
   "source": [
    "from timeit import timeit"
   ]
  },
  {
   "cell_type": "code",
   "execution_count": 19,
   "metadata": {},
   "outputs": [],
   "source": [
    "def complex_pred():\n",
    "    pred = model.predict([resnet50.preprocess_input(data_224), inception_v3.preprocess_input(data_299),\n",
    "                         xception.preprocess_input(data_299)])"
   ]
  },
  {
   "cell_type": "code",
   "execution_count": 23,
   "metadata": {},
   "outputs": [
    {
     "name": "stdout",
     "output_type": "stream",
     "text": [
      "70.56376170399972\n"
     ]
    }
   ],
   "source": [
    "t = timeit('complex_pred()','from __main__ import complex_pred', number=20)\n",
    "print(t)"
   ]
  },
  {
   "cell_type": "code",
   "execution_count": null,
   "metadata": {},
   "outputs": [],
   "source": []
  }
 ],
 "metadata": {
  "kernelspec": {
   "display_name": "Python 3",
   "language": "python",
   "name": "python3"
  },
  "language_info": {
   "codemirror_mode": {
    "name": "ipython",
    "version": 3
   },
   "file_extension": ".py",
   "mimetype": "text/x-python",
   "name": "python",
   "nbconvert_exporter": "python",
   "pygments_lexer": "ipython3",
   "version": "3.5.2"
  }
 },
 "nbformat": 4,
 "nbformat_minor": 2
}
